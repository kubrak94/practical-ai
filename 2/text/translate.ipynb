{
 "cells": [
  {
   "cell_type": "code",
   "execution_count": 1,
   "metadata": {},
   "outputs": [],
   "source": [
    "# pip install yandex-translater\n",
    "\n",
    "# this fixes ya lib problem\n",
    "import locale\n",
    "locale.setlocale(locale.LC_ALL, '')\n",
    "\n",
    "api_key = \"\" # todo your key\n",
    "\n",
    "from yandex import Translater\n",
    "tr = Translater()"
   ]
  },
  {
   "cell_type": "code",
   "execution_count": 2,
   "metadata": {},
   "outputs": [
    {
     "name": "stdout",
     "output_type": "stream",
     "text": [
      "How much is the fish?\n"
     ]
    }
   ],
   "source": [
    "query = \"Почём рыба?\"\n",
    "tr.set_key(api_key) # Api key found on https://translate.yandex.com/developers/keys\n",
    "tr.set_from_lang('ru')\n",
    "tr.set_to_lang('en')\n",
    "\n",
    "tr.set_text(query)\n",
    "result = tr.translate()\n",
    "print(result)"
   ]
  }
 ],
 "metadata": {
  "kernelspec": {
   "display_name": "Python 3",
   "language": "python",
   "name": "python3"
  },
  "language_info": {
   "codemirror_mode": {
    "name": "ipython",
    "version": 3
   },
   "file_extension": ".py",
   "mimetype": "text/x-python",
   "name": "python",
   "nbconvert_exporter": "python",
   "pygments_lexer": "ipython3",
   "version": "3.6.3"
  }
 },
 "nbformat": 4,
 "nbformat_minor": 2
}
