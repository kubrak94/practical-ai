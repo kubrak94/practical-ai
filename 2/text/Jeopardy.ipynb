{
 "cells": [
  {
   "cell_type": "code",
   "execution_count": 11,
   "metadata": {},
   "outputs": [
    {
     "name": "stdout",
     "output_type": "stream",
     "text": [
      "216124\n"
     ]
    }
   ],
   "source": [
    "# download csv from here https://www.reddit.com/r/datasets/comments/1uyd0t/200000_jeopardy_questions_in_a_json_file/\n",
    "import csv\n",
    "dataset = dict()\n",
    "with open('D:/dataset/j.csv',encoding=\"utf-8\") as csvfile:\n",
    "    reader = csv.DictReader(csvfile)\n",
    "    for row in reader:\n",
    "        q = row[' Question']\n",
    "        a = row[' Answer']\n",
    "        dataset[q] = a\n",
    "print(len(dataset))"
   ]
  },
  {
   "cell_type": "code",
   "execution_count": 18,
   "metadata": {},
   "outputs": [],
   "source": [
    "keys = list(dataset.keys())\n",
    "import numpy as np\n",
    "queries = sorted([int(x) for x in np.random.rand(1000) * len(dataset)])"
   ]
  },
  {
   "cell_type": "code",
   "execution_count": 27,
   "metadata": {},
   "outputs": [],
   "source": [
    "qa = [(keys[i], dataset[keys[i]]) for i in queries]\n",
    "\n",
    "with open(\"D:/dataset/j.q.tsv\", \"w\") as fileq:\n",
    "    with open(\"D:/dataset/j.a.tsv\", \"w\") as filea:\n",
    "        for q, a in qa:\n",
    "            fileq.write(\"{}\\n\".format(q))\n",
    "            filea.write(\"{}\\n\".format(a))"
   ]
  },
  {
   "cell_type": "code",
   "execution_count": 37,
   "metadata": {},
   "outputs": [
    {
     "name": "stdout",
     "output_type": "stream",
     "text": [
      "1.0\n"
     ]
    }
   ],
   "source": [
    "with open(\"D:/dataset/j.a.tsv\", \"r\") as file_gt:\n",
    "    with open(\"D:/dataset/test.tsv\", \"r\") as file_test:\n",
    "        gt = file_gt.readlines()[:1000]\n",
    "        tt = file_test.readlines()[:1000]\n",
    "        x = sum(map(lambda a, b: 1 if a == b else 0, gt, tt))\n",
    "        print(x/1000.0)"
   ]
  }
 ],
 "metadata": {
  "kernelspec": {
   "display_name": "Python 3",
   "language": "python",
   "name": "python3"
  },
  "language_info": {
   "codemirror_mode": {
    "name": "ipython",
    "version": 3
   },
   "file_extension": ".py",
   "mimetype": "text/x-python",
   "name": "python",
   "nbconvert_exporter": "python",
   "pygments_lexer": "ipython3",
   "version": "3.6.3"
  }
 },
 "nbformat": 4,
 "nbformat_minor": 2
}
