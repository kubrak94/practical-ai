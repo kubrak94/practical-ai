{
 "cells": [
  {
   "cell_type": "code",
   "execution_count": 1,
   "metadata": {
    "collapsed": true
   },
   "outputs": [],
   "source": [
    "# Natural language toolkit is an entry point for all contemporary NL tools\n",
    "# pip install nltk\n",
    "import nltk"
   ]
  },
  {
   "cell_type": "code",
   "execution_count": 2,
   "metadata": {},
   "outputs": [
    {
     "name": "stdout",
     "output_type": "stream",
     "text": [
      "showing info https://raw.githubusercontent.com/nltk/nltk_data/gh-pages/index.xml\n"
     ]
    },
    {
     "data": {
      "text/plain": [
       "True"
      ]
     },
     "execution_count": 2,
     "metadata": {},
     "output_type": "execute_result"
    }
   ],
   "source": [
    "# before using - download the data http://www.nltk.org/data.html\n",
    "# whole package is ~3G\n",
    "nltk.download()"
   ]
  },
  {
   "cell_type": "code",
   "execution_count": 3,
   "metadata": {},
   "outputs": [
    {
     "name": "stdout",
     "output_type": "stream",
     "text": [
      "default: [('This', 'DET'), ('is', 'VERB'), ('a', 'DET'), ('sentence', 'NOUN'), ('that', 'ADP'), ('we', 'PRON'), ('will', 'VERB'), ('use', 'VERB'), ('to', 'PRT'), ('test', 'VERB'), ('the', 'DET'), ('magic', 'NOUN'), ('tool', 'NOUN')] \n",
      "\n",
      "unigram: [('This', 'DT'), ('is', 'BEZ'), ('a', 'AT'), ('sentence', 'NN'), ('that', 'CS'), ('we', 'PPSS'), ('will', 'MD'), ('use', 'VB'), ('to', 'TO'), ('test', 'NN'), ('the', 'AT'), ('magic', 'JJ'), ('tool', 'NN')] \n",
      "\n",
      "bigram: [('This', 'DT'), ('is', 'BEZ'), ('a', 'AT'), ('sentence', 'NN'), ('that', 'CS'), ('we', 'PPSS'), ('will', 'MD'), ('use', 'VB'), ('to', 'TO'), ('test', 'VB'), ('the', 'AT'), ('magic', None), ('tool', None)] \n",
      "\n"
     ]
    }
   ],
   "source": [
    "# text tokenization and tagging\n",
    "text = \"This is a sentence that we will use to test the magic tool\"\n",
    "# requires tokenizers/punkt/english.pickle of nltk_data\n",
    "tokens = nltk.word_tokenize(text)\n",
    "tagged = nltk.pos_tag(tokens, tagset='universal')\n",
    "print(\"default:\", tagged, \"\\n\")\n",
    "\n",
    "# use this corpus to indentfy parts of speech\n",
    "from nltk.corpus import brown\n",
    "brown_tagged_sents = brown.tagged_sents(categories='news')\n",
    "# unigram tagger does not consider any context, that's why it can make mistakes for words like \"TEST\"\n",
    "unigram_tagger = nltk.UnigramTagger(brown_tagged_sents)\n",
    "bigram_tagger = nltk.BigramTagger(brown_tagged_sents)\n",
    "\n",
    "tagged_u = unigram_tagger.tag(tokens)\n",
    "print(\"unigram:\", tagged_u, \"\\n\")\n",
    "tagged_b = bigram_tagger.tag(tokens)\n",
    "print(\"bigram:\", tagged_b, \"\\n\")\n",
    "# notice, that 'test' in bigrams detected correctly!\n",
    "\n",
    "# For meanings and more information see http://www.nltk.org/book/ch05.html \"2.3 A Universal Part-of-Speech Tagset\""
   ]
  },
  {
   "cell_type": "code",
   "execution_count": 8,
   "metadata": {},
   "outputs": [
    {
     "name": "stdout",
     "output_type": "stream",
     "text": [
      "Possible sentence structure:\n",
      " (S\n",
      "  (NP I)\n",
      "  (VP\n",
      "    (VP (V shot) (NP (Det an) (N elephant)))\n",
      "    (PP (P in) (NP (Det my) (N pajamas)))))\n",
      "Possible sentence structure:\n",
      " (S\n",
      "  (NP I)\n",
      "  (VP\n",
      "    (V shot)\n",
      "    (NP (Det an) (N elephant) (PP (P in) (NP (Det my) (N pajamas))))))\n"
     ]
    }
   ],
   "source": [
    "# grammar - https://stackoverflow.com/questions/6115677/english-grammar-for-parsing-in-nltk\n",
    "# you can specify your own simple grammar\n",
    "\n",
    "tokens = \"I shot an elephant in my pajamas\".split()\n",
    "my_grammar = nltk.CFG.fromstring(\"\"\"\n",
    "    S -> NP VP\n",
    "    PP -> P NP\n",
    "    NP -> Det N | Det N PP | 'I'\n",
    "    VP -> V NP | VP PP\n",
    "    Det -> 'an' | 'my'\n",
    "    N -> 'elephant' | 'pajamas'\n",
    "    V -> 'shot'\n",
    "    P -> 'in'\n",
    "\"\"\")\n",
    "\n",
    "# there are a lot of parsing algorithms: see http://www.nltk.org/book/ch08.html\n",
    "# Each parser need a grammar as input\n",
    "parser = nltk.ChartParser(my_grammar)\n",
    "trees = parser.parse(tokens)\n",
    "\n",
    "for tree in trees:\n",
    "    print(\"Possible sentence structure:\\n\", tree)\n",
    "    tree.draw()"
   ]
  },
  {
   "cell_type": "code",
   "execution_count": 5,
   "metadata": {},
   "outputs": [],
   "source": [
    "# this is more complex grammar, but it only works with predefined sentences. \n",
    "# You can extend this grammar with lexicon\n",
    "better_grammar = nltk.data.load('file:D:/nltk_data/grammars/large_grammars/atis.cfg')\n",
    "parser = nltk.ChartParser(better_grammar)\n",
    "# trees = parser.parse(tokens) - this will fail, because grammar is not full"
   ]
  },
  {
   "cell_type": "code",
   "execution_count": 6,
   "metadata": {},
   "outputs": [
    {
     "name": "stdout",
     "output_type": "stream",
     "text": [
      "(NP+VP\n",
      "  (NP (NN hey))\n",
      "  (, ,)\n",
      "  (NP (NNP Siri) (, ,) (VP (VB call) (NP (PRP$ my) (NN mom)))))\n"
     ]
    }
   ],
   "source": [
    "# pip install git+https://github.com/emilmont/pyStatParser\n",
    "# but there are tools, that must not fail\n",
    "from stat_parser import Parser\n",
    "parser = Parser()\n",
    "trees = parser.parse(\"Hey, Siri, call my mom\")\n",
    "print(trees)\n",
    "trees.draw()"
   ]
  },
  {
   "cell_type": "code",
   "execution_count": 7,
   "metadata": {},
   "outputs": [
    {
     "name": "stdout",
     "output_type": "stream",
     "text": [
      "man time day year car moment world house family child country boy\n",
      "state job place way war girl work word\n"
     ]
    }
   ],
   "source": [
    "# nltk also provides a lot of interesting tools for natural text processing\n",
    "# http://www.nltk.org/book/ch05.html\n",
    "# E.g. context similarity in a corpus\n",
    "text = nltk.Text(word.lower() for word in nltk.corpus.brown.words())\n",
    "# this will print an answer\n",
    "text.similar('woman')"
   ]
  }
 ],
 "metadata": {
  "kernelspec": {
   "display_name": "Python 3",
   "language": "python",
   "name": "python3"
  },
  "language_info": {
   "codemirror_mode": {
    "name": "ipython",
    "version": 3
   },
   "file_extension": ".py",
   "mimetype": "text/x-python",
   "name": "python",
   "nbconvert_exporter": "python",
   "pygments_lexer": "ipython3",
   "version": "3.6.3"
  }
 },
 "nbformat": 4,
 "nbformat_minor": 2
}
