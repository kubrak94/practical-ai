{
 "cells": [
  {
   "cell_type": "code",
   "execution_count": 5,
   "metadata": {
    "collapsed": true
   },
   "outputs": [],
   "source": [
    "# download sphixbase and pocketsphinx\n",
    "# download acoustic models for the language https://sourceforge.net/projects/cmusphinx/files/Acoustic%20and%20Language%20Models/\n",
    "\n",
    "# on Windows install http://www.swig.org/download.html\n",
    "# MSVC 2012 redistibutable https://www.microsoft.com/ru-ru/download/details.aspx?id=30679\n",
    "# and MSVC C++ compiler for Python2.7 https://www.microsoft.com/en-us/download/details.aspx?id=44266 \n",
    "\n",
    "# install python wrapper https://github.com/cmusphinx/pocketsphinx-python\n",
    "#  - pip install pocketsphinx (... if you can...)\n",
    "\n",
    "\n",
    "# install PyAudio http://people.csail.mit.edu/hubert/pyaudio/\n",
    "# pip install pyaudio\n",
    "import pyaudio\n",
    "import wave\n",
    "import sys\n",
    "\n",
    "# default settings for record and playback\n",
    "CHUNK = 1024\n",
    "FORMAT = pyaudio.paInt16\n",
    "CHANNELS = 1\n",
    "RATE = 16000  # CMU sphinx expects this rate\n",
    "\n",
    "def record_to_file(filename, seconds=5):\n",
    "    global FORMAT, CHANNELS, RATE\n",
    "    RECORD_SECONDS = seconds\n",
    "    p = pyaudio.PyAudio()\n",
    "    stream = p.open(format=FORMAT,\n",
    "                channels=CHANNELS,\n",
    "                rate=RATE,\n",
    "                input=True,\n",
    "                frames_per_buffer=CHUNK)\n",
    "    print(\"Start recording... \")\n",
    "    frames = []\n",
    "    for i in range(0, int(RATE / CHUNK * RECORD_SECONDS)):\n",
    "        data = stream.read(CHUNK)\n",
    "        frames.append(data)\n",
    "    print(\"...recorded\", seconds, \"second(s)\")\n",
    "    stream.stop_stream()\n",
    "    stream.close()\n",
    "    p.terminate()\n",
    "    wf = wave.open(filename, 'wb')\n",
    "    wf.setnchannels(CHANNELS)\n",
    "    wf.setsampwidth(p.get_sample_size(FORMAT))\n",
    "    wf.setframerate(RATE)\n",
    "    wf.writeframes(b''.join(frames))\n",
    "    wf.close()"
   ]
  },
  {
   "cell_type": "code",
   "execution_count": 22,
   "metadata": {},
   "outputs": [
    {
     "name": "stdout",
     "output_type": "stream",
     "text": [
      "Start recording... \n",
      "...recorded 5 second(s)\n"
     ]
    }
   ],
   "source": [
    "buffer = \"C:/dev/cmu.wav\"\n",
    "record_to_file(buffer)"
   ]
  },
  {
   "cell_type": "code",
   "execution_count": 25,
   "metadata": {
    "scrolled": true
   },
   "outputs": [
    {
     "name": "stdout",
     "output_type": "stream",
     "text": [
      "b'i found eight eight\\r\\n'\n"
     ]
    }
   ],
   "source": [
    "# these are models discibuted with sphinx, but there are better models\n",
    "CMU_MODEL = r'D:\\cmu_sphinx\\pocketsphinx\\model\\en-us'\n",
    "CMU_BIN = r'D:\\cmu_sphinx\\pocketsphinx\\bin\\Release\\x64'\n",
    "\n",
    "# n-gram language model\n",
    "CMU_LANG_MODEL = CMU_MODEL + r'\\en-us.lm.bin'\n",
    "# CMU_LANG_MODEL = r'D:\\cmu_sphinx\\models\\en-70k-0.1.lm'\n",
    "\n",
    "# dir with acoustic model\n",
    "# CMU_AC_MODEL = CMU_MODEL + r'\\en-us'\n",
    "CMU_AC_MODEL = r'D:\\cmu_sphinx\\models\\cmusphinx-en-us-8khz-5.2'\n",
    "\n",
    "# pronunciation dict\n",
    "CMU_DICT = CMU_MODEL + r'\\cmudict-en-us.dict'\n",
    "\n",
    "LOG_FILE = \"C:/dev/log.cmu.txt\"\n",
    "\n",
    "run_cmd = r\"{0}/pocketsphinx_continuous.exe -infile {1} -hmm {2} -lm {3} -dict {4} -logfn {5}\"\n",
    "run_cmd = run_cmd.format(CMU_BIN, buffer, CMU_AC_MODEL, CMU_LANG_MODEL, CMU_DICT, LOG_FILE)\n",
    "\n",
    "import subprocess\n",
    "\n",
    "txt = subprocess.check_output(run_cmd.split())\n",
    "print(txt)"
   ]
  }
 ],
 "metadata": {
  "kernelspec": {
   "display_name": "Python 3",
   "language": "python",
   "name": "python3"
  },
  "language_info": {
   "codemirror_mode": {
    "name": "ipython",
    "version": 3
   },
   "file_extension": ".py",
   "mimetype": "text/x-python",
   "name": "python",
   "nbconvert_exporter": "python",
   "pygments_lexer": "ipython3",
   "version": "3.6.3"
  }
 },
 "nbformat": 4,
 "nbformat_minor": 2
}
