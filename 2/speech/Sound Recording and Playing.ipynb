{
 "cells": [
  {
   "cell_type": "code",
   "execution_count": 2,
   "metadata": {},
   "outputs": [],
   "source": [
    "# install PyAudio http://people.csail.mit.edu/hubert/pyaudio/\n",
    "# pip install pyaudio\n",
    "import pyaudio\n",
    "import wave\n",
    "import sys\n",
    "\n",
    "# default settings for record and playback\n",
    "CHUNK = 1024\n",
    "FORMAT = pyaudio.paInt16\n",
    "CHANNELS = 1\n",
    "RATE = 22050\n",
    "\n",
    "def play_stream(wave_stream):\n",
    "    global CHUNK\n",
    "    print(\"Playing...\")\n",
    "    p = pyaudio.PyAudio()\n",
    "    out_stream = p.open(format=p.get_format_from_width(wave_stream.getsampwidth()),\n",
    "                channels=wave_stream.getnchannels(),\n",
    "                rate=wave_stream.getframerate(),\n",
    "                output=True)\n",
    "    data = wave_stream.readframes(CHUNK)\n",
    "    while data:\n",
    "        out_stream.write(data)\n",
    "        data = wave_stream.readframes(CHUNK)\n",
    "    out_stream.stop_stream()\n",
    "    out_stream.close()\n",
    "    p.terminate()\n",
    "    print(\"played\")\n",
    "\n",
    "\n",
    "def record_to_file(filename, seconds=5):\n",
    "    global FORMAT, CHANNELS, RATE\n",
    "    RECORD_SECONDS = seconds\n",
    "    p = pyaudio.PyAudio()\n",
    "    stream = p.open(format=FORMAT,\n",
    "                channels=CHANNELS,\n",
    "                rate=RATE,\n",
    "                input=True,\n",
    "                frames_per_buffer=CHUNK)\n",
    "    print(\"Start recording... \")\n",
    "    frames = []\n",
    "    for i in range(0, int(RATE / CHUNK * RECORD_SECONDS)):\n",
    "        data = stream.read(CHUNK)\n",
    "        frames.append(data)\n",
    "    print(\"...recorded\", seconds, \"second(s)\")\n",
    "    stream.stop_stream()\n",
    "    stream.close()\n",
    "    p.terminate()\n",
    "    wf = wave.open(filename, 'wb')\n",
    "    wf.setnchannels(CHANNELS)\n",
    "    wf.setsampwidth(p.get_sample_size(FORMAT))\n",
    "    wf.setframerate(RATE)\n",
    "    wf.writeframes(b''.join(frames))\n",
    "    wf.close()"
   ]
  },
  {
   "cell_type": "code",
   "execution_count": 4,
   "metadata": {},
   "outputs": [
    {
     "name": "stdout",
     "output_type": "stream",
     "text": [
      "Playing...\n",
      "played\n",
      "Start recording... \n",
      "...recorded 5 second(s)\n",
      "Playing...\n",
      "played\n"
     ]
    }
   ],
   "source": [
    "sample = \"C:/dev/peterpiper.wav\"\n",
    "buffer = \"C:/dev/buffer.wav\"\n",
    "\n",
    "wf = wave.open(sample, 'rb')\n",
    "play_stream(wf)\n",
    "\n",
    "record_to_file(buffer)\n",
    "wf = wave.open(buffer, 'rb')\n",
    "play_stream(wf)"
   ]
  }
 ],
 "metadata": {
  "kernelspec": {
   "display_name": "Python 3",
   "language": "python",
   "name": "python3"
  },
  "language_info": {
   "codemirror_mode": {
    "name": "ipython",
    "version": 3
   },
   "file_extension": ".py",
   "mimetype": "text/x-python",
   "name": "python",
   "nbconvert_exporter": "python",
   "pygments_lexer": "ipython3",
   "version": "3.6.3"
  }
 },
 "nbformat": 4,
 "nbformat_minor": 2
}
