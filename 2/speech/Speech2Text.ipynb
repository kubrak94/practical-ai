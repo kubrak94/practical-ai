{
 "cells": [
  {
   "cell_type": "code",
   "execution_count": 2,
   "metadata": {
    "collapsed": true
   },
   "outputs": [],
   "source": [
    "# install PyAudio http://people.csail.mit.edu/hubert/pyaudio/\n",
    "# pip install pyaudio\n",
    "import pyaudio\n",
    "import wave\n",
    "import sys\n",
    "\n",
    "# default settings for record and playback\n",
    "CHUNK = 1024\n",
    "FORMAT = pyaudio.paInt16\n",
    "CHANNELS = 1\n",
    "RATE = 22050\n",
    "\n",
    "def play_stream(wave_stream):\n",
    "    global CHUNK\n",
    "    print(\"Playing...\")\n",
    "    p = pyaudio.PyAudio()\n",
    "    out_stream = p.open(format=p.get_format_from_width(wave_stream.getsampwidth()),\n",
    "                channels=wave_stream.getnchannels(),\n",
    "                rate=wave_stream.getframerate(),\n",
    "                output=True)\n",
    "    data = wave_stream.readframes(CHUNK)\n",
    "    while data:\n",
    "        out_stream.write(data)\n",
    "        data = wave_stream.readframes(CHUNK)\n",
    "    out_stream.stop_stream()\n",
    "    out_stream.close()\n",
    "    p.terminate()\n",
    "    print(\"played\")\n",
    "\n",
    "\n",
    "def record_to_file(filename, seconds=5):\n",
    "    global FORMAT, CHANNELS, RATE\n",
    "    RECORD_SECONDS = seconds\n",
    "    p = pyaudio.PyAudio()\n",
    "    stream = p.open(format=FORMAT,\n",
    "                channels=CHANNELS,\n",
    "                rate=RATE,\n",
    "                input=True,\n",
    "                frames_per_buffer=CHUNK)\n",
    "    print(\"Start recording... \")\n",
    "    frames = []\n",
    "    for i in range(0, int(RATE / CHUNK * RECORD_SECONDS)):\n",
    "        data = stream.read(CHUNK)\n",
    "        frames.append(data)\n",
    "    print(\"...recorded\", seconds, \"second(s)\")\n",
    "    stream.stop_stream()\n",
    "    stream.close()\n",
    "    p.terminate()\n",
    "    wf = wave.open(filename, 'wb')\n",
    "    wf.setnchannels(CHANNELS)\n",
    "    wf.setsampwidth(p.get_sample_size(FORMAT))\n",
    "    wf.setframerate(RATE)\n",
    "    wf.writeframes(b''.join(frames))\n",
    "    wf.close()"
   ]
  },
  {
   "cell_type": "code",
   "execution_count": 3,
   "metadata": {
    "collapsed": true
   },
   "outputs": [],
   "source": [
    "# yandex speech kit\n",
    "api_key = \"\" #TODO your key"
   ]
  },
  {
   "cell_type": "code",
   "execution_count": 4,
   "metadata": {
    "collapsed": true
   },
   "outputs": [],
   "source": [
    "import requests\n",
    "import uuid\n",
    "from bs4 import BeautifulSoup\n",
    "\n",
    "# this is unique idenifier of user\n",
    "# API assumes that APPLICATION makes requests and we can mark them\n",
    "UUID = str(uuid.uuid4()).replace(\"-\", \"\")\n",
    "\n",
    "def ask_yandex(wave_file, uid, lang=\"en-US\"):\n",
    "    # API doc\n",
    "    # https://tech.yandex.ru/speechkit/cloud/doc/guide/concepts/asr-http-request-docpage/\n",
    "    url = \"https://asr.yandex.net/asr_xml?uuid={}&key={}&topic={}&lang={}&disableAntimat={}\"\n",
    "    url = url.format(uid, api_key, \"queries\", lang, \"true\")\n",
    "    \n",
    "    # just read raw information of the container\n",
    "    data = open(wave_file, \"rb\").read()\n",
    "    headers = {'Content-Type' : 'audio/x-wav', 'Content-Length' : str(len(data))}\n",
    "    \n",
    "    # do post request of data\n",
    "    resp = requests.post(url, data=data, headers=headers)\n",
    "    \n",
    "    # parse answers\n",
    "    dom = BeautifulSoup(resp.text, \"lxml\")    \n",
    "    result = dict((var.string, float(var['confidence']))   \n",
    "                  for var \n",
    "                  in dom.html.body.recognitionresults.findAll(\"variant\"))\n",
    "    return result"
   ]
  },
  {
   "cell_type": "code",
   "execution_count": 7,
   "metadata": {},
   "outputs": [
    {
     "name": "stdout",
     "output_type": "stream",
     "text": [
      "('Peter piper picked a peck of pickled peppers how many pickled peppers did peter piper PIC', 0.55)\n",
      "('Peter piper picked a peck of pickled peppers how many pickled peppers did peter piper picked', -1000.0)\n",
      "('Peter piper picked a peck of pickled peppers how many pickled peppers did peter piper pick', -1000.0)\n",
      "('Peter piper picked a peck of pickled peppers howmany pickled peppers did peter piper PIC', -1000.0)\n",
      "('Peter piper picked a peck of pickled peppers how many pickled peppers to peter piper PIC', -1000.0)\n",
      "Start recording... \n",
      "...recorded 3 second(s)\n",
      "('Where is my fish', 0.83)\n",
      "('Where is my IP', 8.6)\n",
      "('Where is my', 8.6)\n",
      "('Where is my PC', 8.6)\n",
      "('Where is my beach', 8.6)\n"
     ]
    }
   ],
   "source": [
    "sample = \"C:/dev/peterpiper.wav\"\n",
    "voice = \"C:/dev/voice.wav\"\n",
    "\n",
    "# recognize generated speech\n",
    "res = ask_yandex(sample, UUID)\n",
    "print(*res.items(), sep=\"\\n\")\n",
    "\n",
    "# recognize your speech\n",
    "record_to_file(voice, 3)\n",
    "wf = wave.open(voice, 'rb')\n",
    "res = ask_yandex(voice, UUID)\n",
    "print(*res.items(), sep=\"\\n\")"
   ]
  }
 ],
 "metadata": {
  "kernelspec": {
   "display_name": "Python 3",
   "language": "python",
   "name": "python3"
  },
  "language_info": {
   "codemirror_mode": {
    "name": "ipython",
    "version": 3
   },
   "file_extension": ".py",
   "mimetype": "text/x-python",
   "name": "python",
   "nbconvert_exporter": "python",
   "pygments_lexer": "ipython3",
   "version": "3.6.3"
  }
 },
 "nbformat": 4,
 "nbformat_minor": 2
}
