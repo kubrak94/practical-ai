{
 "cells": [
  {
   "cell_type": "code",
   "execution_count": 1,
   "metadata": {
    "collapsed": true
   },
   "outputs": [],
   "source": [
    "# http://www.swig.org/download.html\n",
    "#  - this is code generator\n",
    "\n",
    "# pip install pocketsphinx\n",
    "\n",
    "\n",
    "\n"
   ]
  },
  {
   "cell_type": "code",
   "execution_count": 11,
   "metadata": {
    "collapsed": true
   },
   "outputs": [],
   "source": [
    "import pyaudio\n",
    "import wave\n",
    "import sys\n",
    "\n",
    "CHUNK = 1024\n",
    "\n",
    "def play_stream(wave_stream):\n",
    "    p = pyaudio.PyAudio()\n",
    "    out_stream = p.open(format=p.get_format_from_width(wave_stream.getsampwidth()),\n",
    "                channels=wave_stream.getnchannels(),\n",
    "                rate=wave_stream.getframerate(),\n",
    "                output=True)\n",
    "    data = wave_stream.readframes(CHUNK)\n",
    "    while data:\n",
    "        out_stream.write(data)\n",
    "        data = wave_stream.readframes(CHUNK)\n",
    "    out_stream.stop_stream()\n",
    "    out_stream.close()\n",
    "    p.terminate()\n",
    "\n",
    "def record_to_file(filename, seconds=5):\n",
    "    FORMAT = pyaudio.paInt16\n",
    "    CHANNELS = 1\n",
    "    RATE = 22050\n",
    "    RECORD_SECONDS = seconds\n",
    "\n",
    "    p = pyaudio.PyAudio()\n",
    "    stream = p.open(format=FORMAT,\n",
    "                channels=CHANNELS,\n",
    "                rate=RATE,\n",
    "                input=True,\n",
    "                frames_per_buffer=CHUNK)\n",
    "    print(\"Start...\")\n",
    "    frames = []\n",
    "    for i in range(0, int(RATE / CHUNK * RECORD_SECONDS)):\n",
    "        data = stream.read(CHUNK)\n",
    "        frames.append(data)\n",
    "    print(\"...End\")\n",
    "    stream.stop_stream()\n",
    "    stream.close()\n",
    "    p.terminate()\n",
    "    wf = wave.open(filename, 'wb')\n",
    "    wf.setnchannels(CHANNELS)\n",
    "    wf.setsampwidth(p.get_sample_size(FORMAT))\n",
    "    wf.setframerate(RATE)\n",
    "    wf.writeframes(b''.join(frames))\n",
    "    wf.close()"
   ]
  },
  {
   "cell_type": "code",
   "execution_count": 14,
   "metadata": {},
   "outputs": [
    {
     "name": "stdout",
     "output_type": "stream",
     "text": [
      "Start...\n",
      "...End\n"
     ]
    }
   ],
   "source": [
    "# yandex speech kit\n",
    "api_key = \"9d5ab675-adf6-48b6-a172-00a47530a614\"\n",
    "filename = \"C:/dev/request.wav\"\n",
    "record_to_file(filename)\n",
    "play_stream(wave.open(filename, 'rb'))"
   ]
  },
  {
   "cell_type": "code",
   "execution_count": 34,
   "metadata": {},
   "outputs": [
    {
     "name": "stdout",
     "output_type": "stream",
     "text": [
      "e024a623e7e4438aa412feddbb577041\n",
      "<?xml version=\"1.0\" encoding=\"utf-8\"?><html><body><recognitionresults success=\"1\">\n",
      "<variant confidence=\"1\">сколько сейчас времени</variant>\n",
      "</recognitionresults>\n",
      "</body></html>\n",
      "{'сколько сейчас времени': 1.0}\n"
     ]
    }
   ],
   "source": [
    "import requests\n",
    "import uuid\n",
    "from bs4 import BeautifulSoup\n",
    "\n",
    "UUID = str(uuid.uuid4()).replace(\"-\", \"\")\n",
    "\n",
    "def ask_yandex(wave_file, uid):\n",
    "    # https://tech.yandex.ru/speechkit/cloud/doc/guide/concepts/asr-http-request-docpage/\n",
    "    \n",
    "    url = \"https://asr.yandex.net/asr_xml?uuid={}&key={}&topic={}&lang={}&disableAntimat={}\"\n",
    "    url = url.format(uid, api_key, \"queries\", \"ru-RU\", \"true\")\n",
    "    data = open(wave_file, \"rb\").read()\n",
    "    headers = { 'Content-Type' : 'audio/x-wav', 'Content-Length' : str(len(data)) }\n",
    "    resp = requests.post(url, data=data, headers=headers)\n",
    "    dom = BeautifulSoup(resp.text, \"lxml\")    \n",
    "    result = dict((var.string, float(var['confidence']))   \n",
    "                  for var \n",
    "                  in dom.html.body.recognitionresults.findAll(\"variant\"))\n",
    "    \n",
    "    return result\n",
    "    \n",
    "res = ask_yandex(filename, UUID)\n",
    "print(res)"
   ]
  },
  {
   "cell_type": "code",
   "execution_count": 37,
   "metadata": {},
   "outputs": [],
   "source": [
    "query = \"How much is the fish\"\n",
    "\n",
    "tts_url = \"https://tts.voicetech.yandex.net/generate\" + \\\n",
    "        \"?key={}&text={}&format={}&quality={}&lang={}&speaker={}&speed=1.0&emotion={}\"\n",
    "tts_url = tts_url.format(api_key, query, \"wav\", \"lo\", \"en-US\", \"jane\", \"evil\")\n",
    "resp = requests.get(tts_url)"
   ]
  },
  {
   "cell_type": "code",
   "execution_count": 47,
   "metadata": {},
   "outputs": [],
   "source": [
    "with open(\"C:/dev/response.wav\", \"wb\") as f:\n",
    "    f.write(resp.content)\n",
    "play_stream(wave.open(\"C:/dev/response.wav\", 'rb'))"
   ]
  }
 ],
 "metadata": {
  "kernelspec": {
   "display_name": "Python 3",
   "language": "python",
   "name": "python3"
  },
  "language_info": {
   "codemirror_mode": {
    "name": "ipython",
    "version": 3
   },
   "file_extension": ".py",
   "mimetype": "text/x-python",
   "name": "python",
   "nbconvert_exporter": "python",
   "pygments_lexer": "ipython3",
   "version": "3.6.1"
  }
 },
 "nbformat": 4,
 "nbformat_minor": 2
}
