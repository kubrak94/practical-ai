{
 "cells": [
  {
   "cell_type": "code",
   "execution_count": 1,
   "metadata": {
    "collapsed": true
   },
   "outputs": [],
   "source": [
    "# install PyAudio http://people.csail.mit.edu/hubert/pyaudio/\n",
    "import pyaudio\n",
    "import wave\n",
    "import sys\n",
    "import requests\n",
    "\n",
    "# default settings for record and playback\n",
    "CHUNK = 1024\n",
    "FORMAT = pyaudio.paInt16\n",
    "CHANNELS = 1\n",
    "RATE = 22050\n",
    "\n",
    "def play_stream(wave_stream):\n",
    "    global CHUNK\n",
    "    print(\"Playing...\")\n",
    "    p = pyaudio.PyAudio()\n",
    "    out_stream = p.open(format=p.get_format_from_width(wave_stream.getsampwidth()),\n",
    "                channels=wave_stream.getnchannels(),\n",
    "                rate=wave_stream.getframerate(),\n",
    "                output=True)\n",
    "    data = wave_stream.readframes(CHUNK)\n",
    "    while data:\n",
    "        out_stream.write(data)\n",
    "        data = wave_stream.readframes(CHUNK)\n",
    "    out_stream.stop_stream()\n",
    "    out_stream.close()\n",
    "    p.terminate()\n",
    "    print(\"played\")\n",
    "\n",
    "\n",
    "def record_to_file(filename, seconds=5):\n",
    "    global FORMAT, CHANNELS, RATE\n",
    "    RECORD_SECONDS = seconds\n",
    "    p = pyaudio.PyAudio()\n",
    "    stream = p.open(format=FORMAT,\n",
    "                channels=CHANNELS,\n",
    "                rate=RATE,\n",
    "                input=True,\n",
    "                frames_per_buffer=CHUNK)\n",
    "    print(\"Start recording... \")\n",
    "    frames = []\n",
    "    for i in range(0, int(RATE / CHUNK * RECORD_SECONDS)):\n",
    "        data = stream.read(CHUNK)\n",
    "        frames.append(data)\n",
    "    print(\"...recorded\", seconds, \"second(s)\")\n",
    "    stream.stop_stream()\n",
    "    stream.close()\n",
    "    p.terminate()\n",
    "    wf = wave.open(filename, 'wb')\n",
    "    wf.setnchannels(CHANNELS)\n",
    "    wf.setsampwidth(p.get_sample_size(FORMAT))\n",
    "    wf.setframerate(RATE)\n",
    "    wf.writeframes(b''.join(frames))\n",
    "    wf.close()"
   ]
  },
  {
   "cell_type": "code",
   "execution_count": 2,
   "metadata": {
    "collapsed": true
   },
   "outputs": [],
   "source": [
    "api_key = \"\" #TODO your key"
   ]
  },
  {
   "cell_type": "code",
   "execution_count": 3,
   "metadata": {
    "collapsed": true
   },
   "outputs": [],
   "source": [
    "def speak_out_yandex(query, dest, lang=\"en-US\"):\n",
    "    tts_url = \"https://tts.voicetech.yandex.net/generate\" + \\\n",
    "                \"?key={}&text={}&format={}&quality={}&lang={}&speaker={}&speed=1.0&emotion={}\"\n",
    "    voice = \"jane\"\n",
    "    tts_url = tts_url.format(api_key, query, \"wav\", \"lo\", lang, \"jane\", \"evil\")\n",
    "    resp = requests.get(tts_url)\n",
    "    with open(dest, \"wb\") as f:\n",
    "        f.write(resp.content)"
   ]
  },
  {
   "cell_type": "code",
   "execution_count": 4,
   "metadata": {},
   "outputs": [
    {
     "name": "stdout",
     "output_type": "stream",
     "text": [
      "Playing...\n",
      "played\n",
      "Playing...\n",
      "played\n"
     ]
    }
   ],
   "source": [
    "query = \"How much is the fish\"\n",
    "tmp = \"C:/dev/resp.wav\"\n",
    "\n",
    "speak_out_yandex(query, tmp)\n",
    "play_stream(wave.open(tmp, 'rb'))\n",
    "\n",
    "speak_out_yandex(\"Почём опиум для народа?\", tmp, lang=\"ru-RU\")\n",
    "play_stream(wave.open(tmp, 'rb'))"
   ]
  }
 ],
 "metadata": {
  "kernelspec": {
   "display_name": "Python 3",
   "language": "python",
   "name": "python3"
  },
  "language_info": {
   "codemirror_mode": {
    "name": "ipython",
    "version": 3
   },
   "file_extension": ".py",
   "mimetype": "text/x-python",
   "name": "python",
   "nbconvert_exporter": "python",
   "pygments_lexer": "ipython3",
   "version": "3.6.3"
  }
 },
 "nbformat": 4,
 "nbformat_minor": 2
}
