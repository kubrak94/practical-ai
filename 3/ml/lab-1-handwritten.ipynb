{
 "cells": [
  {
   "cell_type": "code",
   "execution_count": 9,
   "metadata": {
    "collapsed": true
   },
   "outputs": [],
   "source": [
    "# Lab-1\n",
    "# do this tutorial\n",
    "# https://www.learnopencv.com/handwritten-digits-classification-an-opencv-c-python-tutorial/\n",
    "\n",
    "import cv2\n",
    "import numpy as np\n",
    "import matplotlib.pyplot as plt\n",
    "import random"
   ]
  },
  {
   "cell_type": "code",
   "execution_count": 55,
   "metadata": {},
   "outputs": [
    {
     "name": "stdout",
     "output_type": "stream",
     "text": [
      "Dataset shape (1000, 2000)\n",
      "TRAIN = 4041, TEST = 959\n",
      "EXAMPLE\n",
      "LABEL = 1\n"
     ]
    },
    {
     "data": {
      "image/png": "[encoded data removed]",
      "text/plain": [
       "<matplotlib.figure.Figure at 0x26e390371d0>"
      ]
     },
     "metadata": {},
     "output_type": "display_data"
    }
   ],
   "source": [
    "dataset = cv2.cvtColor(cv2.imread('digits.png'), cv2.COLOR_BGR2GRAY)\n",
    "print(\"Dataset shape\", dataset.shape)\n",
    "PATCH = (20, 20)\n",
    "RATIO = 0.8\n",
    "train = []\n",
    "test = []\n",
    "IN_LINE, ROWS, DIGITS = 100, 5, 10\n",
    "\n",
    "# split dataset into pairs: (digit, image)\n",
    "for digit in range(DIGITS):\n",
    "    for line in range(ROWS):\n",
    "        for d in range(IN_LINE):\n",
    "            y = (digit * ROWS + line) * PATCH[0]\n",
    "            x = d * PATCH[1]\n",
    "            img = dataset[y:y+PATCH[0], x:x+PATCH[1]]\n",
    "            if random.random() < RATIO:\n",
    "                train.append((digit, img))\n",
    "            else:\n",
    "                test.append((digit, img))\n",
    "print(\"TRAIN = {}, TEST = {}\".format(len(train), len(test)))\n",
    "\n",
    "print(\"EXAMPLE\")\n",
    "print(\"LABEL =\", train[400][0])\n",
    "plt.imshow(train[400][1])\n",
    "plt.show()"
   ]
  },
  {
   "cell_type": "code",
   "execution_count": null,
   "metadata": {
    "collapsed": true
   },
   "outputs": [],
   "source": []
  }
 ],
 "metadata": {
  "kernelspec": {
   "display_name": "Python 3",
   "language": "python",
   "name": "python3"
  },
  "language_info": {
   "codemirror_mode": {
    "name": "ipython",
    "version": 3
   },
   "file_extension": ".py",
   "mimetype": "text/x-python",
   "name": "python",
   "nbconvert_exporter": "python",
   "pygments_lexer": "ipython3",
   "version": "3.6.3"
  }
 },
 "nbformat": 4,
 "nbformat_minor": 2
}
