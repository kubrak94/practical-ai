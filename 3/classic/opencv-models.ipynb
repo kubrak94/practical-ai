{
 "cells": [
  {
   "cell_type": "code",
   "execution_count": null,
   "metadata": {
    "collapsed": true
   },
   "outputs": [],
   "source": [
    "# camera https://docs.opencv.org/3.1.0/da/de9/tutorial_py_epipolar_geometry.html\n",
    "# pyramid for faces ! https://docs.opencv.org/3.1.0/dc/dff/tutorial_py_pyramids.html\n",
    "https://docs.opencv.org/3.1.0/da/d53/tutorial_py_houghcircles.html\n",
    "https://docs.opencv.org/3.1.0/d6/d10/tutorial_py_houghlines.html\n",
    "https://docs.opencv.org/3.3.0/d7/d8b/tutorial_py_face_detection.html"
   ]
  }
 ],
 "metadata": {
  "kernelspec": {
   "display_name": "Python 3",
   "language": "python",
   "name": "python3"
  },
  "language_info": {
   "codemirror_mode": {
    "name": "ipython",
    "version": 3
   },
   "file_extension": ".py",
   "mimetype": "text/x-python",
   "name": "python",
   "nbconvert_exporter": "python",
   "pygments_lexer": "ipython3",
   "version": "3.6.3"
  }
 },
 "nbformat": 4,
 "nbformat_minor": 2
}
