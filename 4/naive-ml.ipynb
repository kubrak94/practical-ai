{
 "cells": [
  {
   "cell_type": "code",
   "execution_count": 1,
   "metadata": {
    "collapsed": true
   },
   "outputs": [],
   "source": [
    "import numpy as np\n",
    "import matplotlib.pyplot as plt"
   ]
  },
  {
   "cell_type": "code",
   "execution_count": 2,
   "metadata": {},
   "outputs": [
    {
     "name": "stdout",
     "output_type": "stream",
     "text": [
      "[[ 1.0000000e+00]\n",
      " [-2.4000000e+00]\n",
      " [ 3.0100000e+00]\n",
      " [ 4.4408921e-16]]\n"
     ]
    }
   ],
   "source": [
    "# inverse!\n",
    "import random as r\n",
    "\n",
    "# unfortunately it should be square matrix to be inverible\n",
    "X = [(r.random(), r.random(), r.random(), r.random()) for _ in range(4)]\n",
    "\n",
    "# some linear combination we don't know\n",
    "def f(x):\n",
    "    return x[0] - 2.4*x[1] + 3.01*x[2]\n",
    "\n",
    "# generate target\n",
    "y = [[f(x)] for x in X]\n",
    "\n",
    "X = np.matrix(X)\n",
    "y = np.matrix(y)\n",
    "\n",
    "# X[4,4] * A[4,1] = y[4,1]\n",
    "# A = X^-1 * y\n",
    "A = X.I * y\n",
    "print(A)"
   ]
  },
  {
   "cell_type": "code",
   "execution_count": 3,
   "metadata": {},
   "outputs": [
    {
     "name": "stdout",
     "output_type": "stream",
     "text": [
      "[[ 1.00043901e+00]\n",
      " [-2.39724868e+00]\n",
      " [ 3.00397033e+00]\n",
      " [-1.04427710e-04]]\n"
     ]
    }
   ],
   "source": [
    "# least square approximations\n",
    "X = [(r.random(), r.random(), r.random(), r.random()) for _ in range(40000)]\n",
    "\n",
    "# some linear combination we don't know\n",
    "def f(x):\n",
    "    return x[0] - 2.4*x[1] + 3.01*x[2] + (r.random() - 0.5)\n",
    "\n",
    "# generate target\n",
    "y = [[f(x)] for x in X]\n",
    "\n",
    "X = np.matrix(X)\n",
    "y = np.matrix(y)\n",
    "\n",
    "# X[40000,4] * A[4,1] = y[40000,1]\n",
    "A = (X.T * X).I * X.T * y\n",
    "print(A)"
   ]
  },
  {
   "cell_type": "code",
   "execution_count": 4,
   "metadata": {},
   "outputs": [
    {
     "name": "stdout",
     "output_type": "stream",
     "text": [
      "[[ 1.62746520e+01 -7.56389436e-02 -3.87922663e-01  2.99817005e-01\n",
      "  -1.62746520e+01]\n",
      " [-7.56389436e-02  1.63125676e+01 -1.63182229e+01 -9.96186516e-02\n",
      "   7.56389436e-02]\n",
      " [-3.87922663e-01 -1.63182229e+01  2.31136694e+02 -1.18362661e+00\n",
      "   3.87922663e-01]\n",
      " [ 2.99817005e-01 -9.96186516e-02 -1.18362661e+00  2.65182332e+02\n",
      "  -2.99817005e-01]\n",
      " [-1.62746520e+01  7.56389436e-02  3.87922663e-01 -2.99817005e-01\n",
      "   1.62746520e+01]]\n"
     ]
    },
    {
     "data": {
      "image/png": "[encoded data removed]",
      "text/plain": [
       "<matplotlib.figure.Figure at 0x19a3f0ece10>"
      ]
     },
     "metadata": {},
     "output_type": "display_data"
    },
    {
     "data": {
      "image/png": "[encoded data removed]",
      "text/plain": [
       "<matplotlib.figure.Figure at 0x19a4216e4e0>"
      ]
     },
     "metadata": {},
     "output_type": "display_data"
    },
    {
     "name": "stdout",
     "output_type": "stream",
     "text": [
      "+ 2.00*1 + 0.00*x0 + -1.00*x1 + 1.00*x0^2 + 0.00*x1^1 + -0.00*x0x1 \n",
      "+ -0.00*1 + 0.00*x0 + -0.00*x1 + 0.00*x0^2 + -0.00*x1^1 + 1.00*x0x1 \n",
      "+ 1.00*1 + -1.00*x0 + -0.00*x1 + -0.00*x0^2 + -0.00*x1^1 + -0.00*x0x1 \n"
     ]
    }
   ],
   "source": [
    "# what about complex figures (noisy circle)\n",
    "# least square approximations\n",
    "X = [(r.random() * 14 - 7, r.random() * 14 - 7) for _ in range(40000)]\n",
    "\n",
    "# some linear combination we don't know\n",
    "def f(x):\n",
    "    y1 = 2 + x[0] ** 2 - x[1] + (r.random() - 0.5) * 0.3\n",
    "    y2 = x[0] * x[1] + (r.random() - 0.5) * 0.3\n",
    "    y3 = 1 - x[0]\n",
    "    return y1, y2, y3\n",
    "\n",
    "# generate target\n",
    "y = [f(x) for x in X]\n",
    "together = [(*x, *f(x)) for x in X]\n",
    "\n",
    "C = np.cov(np.array(together).T)\n",
    "print(C)\n",
    "plt.imshow(C, vmax=1,vmin=-1)\n",
    "plt.show()\n",
    "\n",
    "# we do have correlations!\n",
    "plt.plot(np.matrix(y)[:,0], np.matrix(X)[:,0], 'bo')\n",
    "plt.show()\n",
    "\n",
    "# precompute features!\n",
    "X1 = [(1, x[0], x[1], x[0] ** 2, x[1] ** 2, x[0] * x[1]) for x in X]\n",
    "labels = ['1', 'x0', 'x1', 'x0^2', 'x1^1', 'x0x1']\n",
    "\n",
    "X = np.matrix(X1)\n",
    "y = np.matrix(y)\n",
    "\n",
    "# X[40000,6] * A[6,3] = y[40000,3]\n",
    "A = (X.T * X).I * X.T * y\n",
    "\n",
    "for j in range(3):\n",
    "    for i in range(len(labels)):\n",
    "        print(\"+ {:.2f}*{}\".format(A[i, j], labels[i]), end=\" \")\n",
    "    print()"
   ]
  }
 ],
 "metadata": {
  "kernelspec": {
   "display_name": "Python 3",
   "language": "python",
   "name": "python3"
  },
  "language_info": {
   "codemirror_mode": {
    "name": "ipython",
    "version": 3
   },
   "file_extension": ".py",
   "mimetype": "text/x-python",
   "name": "python",
   "nbconvert_exporter": "python",
   "pygments_lexer": "ipython3",
   "version": "3.6.3"
  }
 },
 "nbformat": 4,
 "nbformat_minor": 2
}
