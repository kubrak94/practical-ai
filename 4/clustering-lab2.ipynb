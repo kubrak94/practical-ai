{
 "cells": [
  {
   "cell_type": "code",
   "execution_count": 1,
   "metadata": {},
   "outputs": [
    {
     "name": "stdout",
     "output_type": "stream",
     "text": [
      "(8, 87)\n"
     ]
    }
   ],
   "source": [
    "# visualize data ib 2D or 3D using dimension reduction: PCA, T-SNE or LDA\n",
    "# http://scikit-learn.org/stable/modules/generated/sklearn.manifold.TSNE.html\n",
    "# http://scikit-learn.org/stable/modules/generated/sklearn.discriminant_analysis.LinearDiscriminantAnalysis.html\n",
    "\n",
    "\n",
    "# use DBSCAN to cluster data\n",
    "# http://scikit-learn.org/stable/modules/generated/sklearn.cluster.dbscan.html#sklearn.cluster.dbscan\n",
    "\n",
    "# visualize clustered data\n",
    "\n",
    "import csv\n",
    "import numpy as np\n",
    "\n",
    "raw = []\n",
    "candidates = []\n",
    "with open('votes.csv', encoding='utf-8') as votes:\n",
    "    r = csv.reader(votes)\n",
    "    # region names\n",
    "    labels = next(r)[1:]\n",
    "    for row in r:\n",
    "        candidates.append(row[0])\n",
    "        data = [int(v) for v in row[1:]]\n",
    "        s = sum(data)\n",
    "        # normalized!\n",
    "        data = [x/s for x in data]\n",
    "        raw.append(data)\n",
    "\n",
    "X = np.array(raw)\n",
    "# candidates by regions\n",
    "print(X.shape)"
   ]
  }
 ],
 "metadata": {
  "kernelspec": {
   "display_name": "Python 3",
   "language": "python",
   "name": "python3"
  },
  "language_info": {
   "codemirror_mode": {
    "name": "ipython",
    "version": 3
   },
   "file_extension": ".py",
   "mimetype": "text/x-python",
   "name": "python",
   "nbconvert_exporter": "python",
   "pygments_lexer": "ipython3",
   "version": "3.6.3"
  }
 },
 "nbformat": 4,
 "nbformat_minor": 2
}
