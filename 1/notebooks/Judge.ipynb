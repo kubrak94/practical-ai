{
 "cells": [
  {
   "cell_type": "code",
   "execution_count": 1,
   "metadata": {},
   "outputs": [
    {
     "name": "stdout",
     "output_type": "stream",
     "text": [
      "First move is by player #1 at http://localhost:82/api/v1/2b477dea-ab61-4309-b350-4d47647e41d9\n"
     ]
    }
   ],
   "source": [
    "import requests\n",
    "import uuid\n",
    "import time\n",
    "\n",
    "# config\n",
    "AI = [ \n",
    "    (\"http://localhost:81/api/v1/\", \"dummy_token\", \"Team Red\"),\n",
    "    (\"http://localhost:82/api/v1/\", \"dummy_token\", \"Team Blue\")\n",
    "]\n",
    "import random\n",
    "PLAYER = random.randint(0, 1)\n",
    "STATE = \"\"\n",
    "ROOM = str(uuid.uuid4())\n",
    "print(\"First move is by player #{} at {}\".format(PLAYER, AI[PLAYER][0] + ROOM))"
   ]
  },
  {
   "cell_type": "code",
   "execution_count": 2,
   "metadata": {},
   "outputs": [
    {
     "name": "stdout",
     "output_type": "stream",
     "text": [
      "Team Red OK\n",
      "Team Red OK\n",
      "Team Red OK\n",
      "Team Blue OK\n",
      "Team Blue OK\n",
      "Team Blue OK\n"
     ]
    }
   ],
   "source": [
    "def test(id):\n",
    "    url = AI[id][0] + \"123\"\n",
    "    # no auth \n",
    "    headers = { 'Content-Type' : 'text/plain' }\n",
    "    resp = requests.post(url, data=\"\", headers=headers)\n",
    "    if resp.status_code // 100 == 4:\n",
    "        print(AI[id][2], \"OK\")\n",
    "    else:\n",
    "        print(AI[id][2], \"Wrong status code for unauthorized client\")\n",
    "    headers = {'Authorization': 'Bearer CHU$H', \n",
    "               'Content-Type' : 'text/plain'\n",
    "              }\n",
    "    resp = requests.post(url, data=\"\", headers=headers)\n",
    "    if resp.status_code // 100 == 4:\n",
    "        print(AI[id][2], \"OK\")\n",
    "    else:\n",
    "        print(AI[id][2], \"Wrong status code for wrong token\")\n",
    "    \n",
    "    headers = {'Authorization': 'Bearer ' + AI[id][1], \n",
    "               'Content-Type' : 'text/plain'\n",
    "              }\n",
    "    resp = requests.post(url, data=\"\", headers=headers)\n",
    "    if resp.status_code // 100 == 2:\n",
    "        print(AI[id][2], \"OK\")\n",
    "    else:\n",
    "        print(AI[id][2], \"Wrong status code for wrong token\")\n",
    "\n",
    "test(0)\n",
    "test(1)"
   ]
  },
  {
   "cell_type": "code",
   "execution_count": 3,
   "metadata": {},
   "outputs": [
    {
     "name": "stdout",
     "output_type": "stream",
     "text": [
      "Player Team Blue (1). Code 200\n",
      "x..\n",
      "...\n",
      "...\n",
      "\n",
      "Player Team Red (0). Code 200\n",
      "xo.\n",
      "...\n",
      "...\n",
      "\n",
      "Player Team Blue (1). Code 200\n",
      "xox\n",
      "...\n",
      "...\n",
      "\n",
      "Player Team Red (0). Code 200\n",
      "xox\n",
      "o..\n",
      "...\n",
      "\n",
      "Player Team Blue (1). Code 200\n",
      "xox\n",
      "ox.\n",
      "...\n",
      "\n",
      "Player Team Red (0). Code 200\n",
      "xox\n",
      "oxo\n",
      "...\n",
      "\n",
      "Player Team Blue (1). Code 418\n",
      "I won\n",
      "xox\n",
      "oxo\n",
      "x..\n",
      "\n"
     ]
    }
   ],
   "source": [
    "def move(room, player, state):\n",
    "    url = AI[player][0] + room\n",
    "    token = AI[player][1]\n",
    "    headers = {'Authorization': 'Bearer ' + token, \n",
    "               'Content-Length' : str(len(state)),\n",
    "               'Content-Type' : 'text/plain'\n",
    "              }\n",
    "    resp = requests.post(url, data=state, headers=headers)\n",
    "    return resp.status_code, resp.text\n",
    "\n",
    "code = 200\n",
    "while code == 200:\n",
    "    code, body = move(ROOM, PLAYER, STATE)\n",
    "    time.sleep(2)\n",
    "    print(\"Player {} ({}). Code {}\\n{}\\n\".format(AI[PLAYER][2], PLAYER, code, body))\n",
    "    if code == 200:\n",
    "        STATE = body\n",
    "    PLAYER = 1 - PLAYER"
   ]
  }
 ],
 "metadata": {
  "kernelspec": {
   "display_name": "Python 3",
   "language": "python",
   "name": "python3"
  },
  "language_info": {
   "codemirror_mode": {
    "name": "ipython",
    "version": 3
   },
   "file_extension": ".py",
   "mimetype": "text/x-python",
   "name": "python",
   "nbconvert_exporter": "python",
   "pygments_lexer": "ipython3",
   "version": "3.6.1"
  }
 },
 "nbformat": 4,
 "nbformat_minor": 2
}
